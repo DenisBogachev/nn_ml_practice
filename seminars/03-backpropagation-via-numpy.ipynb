{
 "cells": [
  {
   "cell_type": "code",
   "execution_count": 2,
   "id": "f647f31d",
   "metadata": {},
   "outputs": [],
   "source": [
    "import numpy as np"
   ]
  },
  {
   "cell_type": "markdown",
   "id": "08e3b6bf",
   "metadata": {},
   "source": [
    "Умеем делать прямой проход по нейронной сети, пора учиться делать обратный, чтобы она хоть чему-то училась."
   ]
  },
  {
   "cell_type": "markdown",
   "id": "7acfbe04",
   "metadata": {},
   "source": [
    "![](https://i0.wp.com/analyticsarora.com/wp-content/uploads/2021/09/Understand-The-Backpropagation-Algorithm-Interview-Question.png?resize=800%2C600&ssl=1)"
   ]
  },
  {
   "cell_type": "markdown",
   "id": "956f51a5",
   "metadata": {},
   "source": [
    "## Сначала закодим прямой проход по сети, и обернем это все в класс"
   ]
  },
  {
   "cell_type": "markdown",
   "id": "100a66e5",
   "metadata": {},
   "source": [
    "#### Но до этого необходимо описать слои в виде класса"
   ]
  },
  {
   "cell_type": "markdown",
   "id": "db10c42f",
   "metadata": {},
   "source": [
    "# Задача 1. Реализовать линейный слой"
   ]
  },
  {
   "cell_type": "code",
   "execution_count": 5,
   "id": "70ea2ef8",
   "metadata": {},
   "outputs": [],
   "source": [
    "class LinearLayer():\n",
    "    def __init__(self, in_size, out_size):\n",
    "        self.W = np.random.randn(in_size, out_size)\n",
    "        self.params = [self.W]\n",
    "        self.gradW = None\n",
    "        self.gradInput = None\n",
    "        \n",
    "    def forward(self, X):\n",
    "        self.X = X.copy()\n",
    "        output = X.dot(self.W)\n",
    "        return output"
   ]
  },
  {
   "cell_type": "code",
   "execution_count": 6,
   "id": "0fb52b3e",
   "metadata": {},
   "outputs": [],
   "source": [
    "np.random.seed(17)\n",
    "\n",
    "X = np.random.random(size=(10000, 5))\n",
    "linear = LinearLayer(5, 3)\n",
    "output = linear.forward(X)\n",
    "correct_answer = np.array([[-0.75476927,  0.39598163, -0.11428765],\n",
    "                           [ 1.28828674, -0.90586033,  0.67063637],\n",
    "                           [ 2.51515422, -0.95305043,  1.4073423 ]])\n",
    "assert np.isclose(output[:3], correct_answer).all()"
   ]
  },
  {
   "cell_type": "markdown",
   "id": "7e93b35d",
   "metadata": {},
   "source": [
    "# Задача 2. Реализовать ReLU-активацию слоя "
   ]
  },
  {
   "cell_type": "markdown",
   "id": "890c5a08",
   "metadata": {},
   "source": [
    "![ReLU Image](https://pytorch.org/docs/stable/_images/ReLU.png)"
   ]
  },
  {
   "cell_type": "code",
   "execution_count": 7,
   "id": "ec3eb9c3",
   "metadata": {},
   "outputs": [],
   "source": [
    "class ReLULayer():\n",
    "    def __init__(self):\n",
    "        self.params = []\n",
    "        self.gradInput = None\n",
    "\n",
    "    def forward(self, X):\n",
    "        self.X = X.copy()\n",
    "        output = np.maximum(X, 0)\n",
    "        return output"
   ]
  },
  {
   "cell_type": "code",
   "execution_count": 8,
   "id": "5f4b6d92",
   "metadata": {},
   "outputs": [],
   "source": [
    "np.random.seed(17)\n",
    "\n",
    "X = np.random.random(size=(10000, 5))\n",
    "linear = LinearLayer(5, 3)\n",
    "output = linear.forward(X)\n",
    "output_relu = ReLULayer().forward(output)\n",
    "correct_answer = np.array([[0,  0.39598163, 0],\n",
    "                           [1.28828674, 0,  0.67063637],\n",
    "                           [2.51515422, 0,  1.4073423 ]])\n",
    "assert np.isclose(output_relu[:3], correct_answer).all()"
   ]
  },
  {
   "cell_type": "markdown",
   "id": "896d72a1",
   "metadata": {},
   "source": [
    "# Задача 3. Реализовать функцию потерь"
   ]
  },
  {
   "cell_type": "markdown",
   "id": "6d0a4f4f",
   "metadata": {},
   "source": [
    "Для бинарной классификации Binary Cross Entropy Loss:\n",
    "$$\n",
    "H(\\hat{y}, y) = - \\frac{1}{N} \\sum_{j}^N y^j\\cdot log(\\hat{y}^j) + (1 - y^j) \\cdot log(1 - \\hat{y}^j)\n",
    "$$\n",
    "$\\hat{y}^j$ - предсказанное значение класса  \n",
    "$y^j$ - истинное значение класса  \n",
    "$N$ - количество наблюдений  \n",
    "  \n",
    "   \n",
    "Для задач классификации используется Cross Entropy Loss:\n",
    "$$\n",
    "H(\\hat{y}, y) = - \\frac{1}{N} \\sum_{j}^N \\sum_{i}^M{y_i^j\\cdot log(\\hat{y}_i^j)}\n",
    "$$\n",
    "$\\hat{y}_i^j$ - предсказанное значение класса i для наблюдения j   \n",
    "$y_i^j$ - истинное значение класса i для наблюдения j  \n",
    "$N$ - количество наблюдений   \n",
    "$M$ - количество предсказанных классов"
   ]
  },
  {
   "cell_type": "code",
   "execution_count": 11,
   "id": "751ad40d",
   "metadata": {},
   "outputs": [],
   "source": [
    "class BinaryCrossEntropyLoss():\n",
    "    def forward(self, y_true, y_pred):\n",
    "        n = len(y_true)\n",
    "        loss = - (1 / n) * np.sum(y_true * np.log(y_pred) + (1 - y_true) * np.log(1 - y_pred))\n",
    "        return loss"
   ]
  },
  {
   "cell_type": "code",
   "execution_count": 14,
   "id": "253f49bf",
   "metadata": {},
   "outputs": [
    {
     "data": {
      "text/plain": [
       "0.085"
      ]
     },
     "execution_count": 14,
     "metadata": {},
     "output_type": "execute_result"
    }
   ],
   "source": [
    "y_true = np.array([1, 1, 0, 0])\n",
    "y_pred = np.array([0.999, 0.89, 0.2, 0.001])\n",
    "round(bceloss.forward(y_true, y_pred), 3)"
   ]
  },
  {
   "cell_type": "code",
   "execution_count": 12,
   "id": "b7130880",
   "metadata": {},
   "outputs": [],
   "source": [
    "np.random.seed(17)\n",
    "\n",
    "bceloss = BinaryCrossEntropyLoss()\n",
    "\n",
    "y_true = np.array([1, 1, 0, 0])\n",
    "y_pred = np.array([0.5] * 4)\n",
    "assert round(bceloss.forward(y_true, y_pred), 3) == 0.693\n",
    "\n",
    "y_true = np.random.randint(0, 2, size=(100))\n",
    "y_pred = np.random.random(100)\n",
    "assert round(bceloss.forward(y_true, y_pred), 3) == 0.997"
   ]
  },
  {
   "cell_type": "markdown",
   "id": "017da039",
   "metadata": {},
   "source": [
    "# Задача 4\\*. Реализовать обратный проход по линейному слою"
   ]
  },
  {
   "cell_type": "markdown",
   "id": "d34ea664",
   "metadata": {},
   "source": [
    "Здесь начинаем работать с градиентами.  \n",
    "1. Зачем вообще градиент?  \n",
    "2. Причем здесь веса?  \n",
    "3. Почему не можем менять изначальные данные?  "
   ]
  },
  {
   "cell_type": "code",
   "execution_count": 36,
   "id": "8383c9af",
   "metadata": {},
   "outputs": [],
   "source": [
    "class LinearLayerWithBackprop(LinearLayer):\n",
    "    def backward(self, dout):\n",
    "        pass"
   ]
  },
  {
   "cell_type": "code",
   "execution_count": 52,
   "id": "e351ca71",
   "metadata": {},
   "outputs": [],
   "source": [
    "np.random.seed(17)\n",
    "\n",
    "# initialization\n",
    "linear_backprop = LinearLayerWithBackprop(5, 3)\n",
    "X = np.random.randn(10000, 5)\n",
    "\n",
    "# forward pass\n",
    "linear_output = linear_backprop.forward(X)\n",
    "\n",
    "# backpropagation\n",
    "dout = np.random.randn(10000, 3)\n",
    "dX, dW = linear_backprop.backward(dout)\n",
    "\n",
    "assert dX.shape == X.shape\n",
    "assert dW.shape == linear_backprop.W.shape\n",
    "assert round(dX.sum(), 3) == 647.044\n",
    "assert round(dW.sum(), 3) == 397.748"
   ]
  },
  {
   "cell_type": "markdown",
   "id": "985d3b56",
   "metadata": {},
   "source": [
    "# Задача 5\\*. Реализовать обратный проход по ReLU слою"
   ]
  },
  {
   "cell_type": "code",
   "execution_count": null,
   "id": "66381a89",
   "metadata": {},
   "outputs": [],
   "source": [
    "class ReLULayerWithBackprop(ReLULayer):   \n",
    "    def backward(self, dout):\n",
    "        pass"
   ]
  },
  {
   "cell_type": "code",
   "execution_count": 67,
   "id": "38721c5a",
   "metadata": {},
   "outputs": [],
   "source": [
    "np.random.seed(17)\n",
    "\n",
    "# initialization\n",
    "relu_backprop = ReLULayerWithBackprop()\n",
    "X = np.random.randn(10000, 5)\n",
    "\n",
    "# forward pass\n",
    "relu_output = relu_backprop.forward(X)\n",
    "\n",
    "# backpropagation\n",
    "dout = np.random.randn(10000, 5)\n",
    "dX = relu_backprop.backward(dout)\n",
    "\n",
    "assert dX.shape == X.shape\n",
    "assert round(dX.sum(), 3) == 170.764"
   ]
  },
  {
   "cell_type": "markdown",
   "id": "d07220b5",
   "metadata": {},
   "source": [
    "# Задача 6\\*. Реализовать обратный проход по BCELoss"
   ]
  },
  {
   "cell_type": "code",
   "execution_count": 202,
   "id": "0392c732",
   "metadata": {},
   "outputs": [],
   "source": [
    "class BinaryCrossEntropyLossWithBackprop(CrossEntropyLoss):\n",
    "    def backward(self, y_true, y_pred):\n",
    "        pass"
   ]
  },
  {
   "cell_type": "code",
   "execution_count": 321,
   "id": "e7b84792",
   "metadata": {},
   "outputs": [],
   "source": [
    "y_true = np.array([1, 1, 1, 0, 0])\n",
    "y_pred = np.array([0.99, 0.9, 0.8, 0.5, 0.2])\n",
    "bceloss_backward = BinaryCrossEntropyLossWithBackprop()\n",
    "\n",
    "right_answer = np.array([0.2020202, 0.22222222, 0.25, -0.4, -0.25])\n",
    "assert np.isclose(bceloss_backward.backward(y_true, y_pred), right_answer).all()"
   ]
  },
  {
   "cell_type": "markdown",
   "id": "fbe0cc6d",
   "metadata": {},
   "source": [
    "# Задача 7\\*. Реализовать свою нейросеть"
   ]
  },
  {
   "cell_type": "code",
   "execution_count": 347,
   "id": "361a441d",
   "metadata": {},
   "outputs": [],
   "source": []
  },
  {
   "cell_type": "code",
   "execution_count": 348,
   "id": "bdfbddce",
   "metadata": {},
   "outputs": [],
   "source": [
    "def minibatch(X, y, minibatch_size):\n",
    "    n = X.shape[0]\n",
    "    minibatches = []\n",
    "\n",
    "    for i in range(0, n , minibatch_size):\n",
    "        X_batch = X[i:i + minibatch_size, ...]\n",
    "        y_batch = y[i:i + minibatch_size, ...]\n",
    "\n",
    "        minibatches.append((X_batch, y_batch))\n",
    "    return minibatches"
   ]
  },
  {
   "cell_type": "code",
   "execution_count": 349,
   "id": "6b15b199",
   "metadata": {},
   "outputs": [],
   "source": [
    "def update(velocity, params, grads, learning_rate=0.001, mu=0.9):\n",
    "    for v, p, g, in zip(velocity, params, reversed(grads)):\n",
    "        for i in range(len(g)):\n",
    "            v[i] = mu * v[i] + learning_rate * g[i]\n",
    "            p[i] -= v[i]"
   ]
  },
  {
   "cell_type": "code",
   "execution_count": 350,
   "id": "fe303291",
   "metadata": {},
   "outputs": [],
   "source": [
    "def plot_train_process(train_acc_list, val_acc_list, \n",
    "                       mean_train_loss_list, mean_val_loss_list):\n",
    "    fig, axes = plt.subplots(1, 2, figsize=(15, 5))\n",
    "\n",
    "    axes[0].set_title('Accuracy')\n",
    "    axes[1].set_title('Loss')\n",
    "    \n",
    "    axes[0].plot(train_acc_list, label='train')\n",
    "    axes[0].plot(val_acc_list, label='val')\n",
    "    axes[0].legend()\n",
    "    \n",
    "    axes[1].plot(mean_train_loss_list, label='train')\n",
    "    axes[1].plot(mean_val_loss_list, label='val')\n",
    "    axes[1].legend()\n",
    "    \n",
    "    plt.show()\n",
    "\n",
    "\n",
    "def train(net, X_train, y_train, minibatch_size, epoch, learning_rate, mu=0.9,\n",
    "                 verbose=True, X_val=None, y_val=None, nesterov=True, draw_each_iters=5):\n",
    "    val_loss_epoch = []\n",
    "    minibatches = minibatch(X_train, y_train, minibatch_size)\n",
    "    minibatches_val = minibatch(X_val, y_val, minibatch_size)\n",
    "\n",
    "    c = 0 \n",
    "\n",
    "    mean_train_loss_list = []\n",
    "    mean_val_loss_list = []\n",
    "    train_acc_list = []\n",
    "    val_acc_list = []\n",
    "    for n_iter in range(epoch):\n",
    "        loss_batch = []\n",
    "        val_loss_batch = []\n",
    "        velocity = []\n",
    "        for param_layer in net.params:\n",
    "            p = [np.zeros_like(param) for param in list(param_layer)]\n",
    "            velocity.append(p)\n",
    "\n",
    "        # iterate over mini batches\n",
    "        for X_mini, y_mini in minibatches:\n",
    "\n",
    "            loss, grads = net.train_step(X_mini, y_mini)\n",
    "            loss_batch.append(loss)\n",
    "            update(velocity, net.params, grads,\n",
    "                            learning_rate=learning_rate, mu=mu)\n",
    "\n",
    "        for X_mini_val, y_mini_val in minibatches_val:\n",
    "            val_loss, _ = net.train_step(X_mini, y_mini)\n",
    "            val_loss_batch.append(val_loss)\n",
    "\n",
    "\n",
    "        # accuracy of model at end of epoch after all mini batch updates   \n",
    "\n",
    "        if verbose:\n",
    "            m_train = X_train.shape[0]\n",
    "            m_val = X_val.shape[0]\n",
    "            y_train_pred = np.array([], dtype=\"int64\")\n",
    "            y_val_pred = np.array([], dtype=\"int64\")\n",
    "\n",
    "            for i in range(0, m_train, minibatch_size):\n",
    "                X_tr = X_train[i:i + minibatch_size, : ]\n",
    "                y_tr = y_train[i:i + minibatch_size, ]\n",
    "                y_train_pred = np.append(y_train_pred, net.predict(X_tr))\n",
    "\n",
    "            for i in range(0, m_val, minibatch_size):\n",
    "                X_va = X_val[i:i + minibatch_size, : ]\n",
    "                y_va = y_val[i:i + minibatch_size, ]\n",
    "                y_val_pred = np.append(y_val_pred, net.predict(X_va))\n",
    "        \n",
    "            train_acc = check_accuracy(y_train, y_train_pred)\n",
    "            val_acc = check_accuracy(y_val, y_val_pred)\n",
    "            mean_train_loss = sum(loss_batch) / float(len(loss_batch))\n",
    "            mean_val_loss = sum(val_loss_batch) / float(len(val_loss_batch))\n",
    "            \n",
    "            train_acc_list.append(train_acc)\n",
    "            val_acc_list.append(val_acc)\n",
    "            \n",
    "            mean_train_loss_list.append(mean_train_loss)\n",
    "            mean_val_loss_list.append(mean_val_loss)\n",
    "\n",
    "            # early stopping with patience = 5 on val loss\n",
    "            if len(val_loss_epoch) == 0:\n",
    "                val_loss_epoch.append(mean_val_loss)\n",
    "            else:\n",
    "                for j in val_loss_epoch[-5:]:\n",
    "                    if mean_val_loss > j:\n",
    "                        c += 1\n",
    "                    else:\n",
    "                        c = 0\n",
    "                if c > 5:\n",
    "                    print('Early stopping')\n",
    "                    return net\n",
    "                else:\n",
    "                    c = 0\n",
    "                    val_loss_epoch.append(mean_val_loss)  \n",
    "                    \n",
    "            if n_iter % draw_each_iters == 0:\n",
    "                clear_output(True)\n",
    "                plot_train_process(train_acc_list, val_acc_list, \n",
    "                                   mean_train_loss_list, mean_val_loss_list)\n",
    "    return net"
   ]
  },
  {
   "cell_type": "code",
   "execution_count": 329,
   "id": "23a83f03",
   "metadata": {},
   "outputs": [
    {
     "name": "stdout",
     "output_type": "stream",
     "text": [
      "(4, 4)\n",
      "(4, 4)\n"
     ]
    },
    {
     "name": "stderr",
     "output_type": "stream",
     "text": [
      "C:\\Users\\anana\\AppData\\Local\\Temp\\ipykernel_4604\\1636587052.py:26: RuntimeWarning: invalid value encountered in log\n",
      "  loss = -(1 / m) * np.sum(y_true * np.log(y_pred) + (1 - y_true) * np.log(1 - y_pred))\n"
     ]
    }
   ],
   "source": [
    "# Get preprocessed training and validation data\n",
    "\n",
    "X_train = np.array([\n",
    "    [1, 2, 1, 2],\n",
    "    [2, 4, 2, 4],\n",
    "    [2, 1, 2, 1],\n",
    "    [4, 2, 4, 2],\n",
    "])\n",
    "\n",
    "y_train = np.array([[0], [1], [0], [1]])\n",
    "X_val = X_train.copy()\n",
    "y_val = y_train.copy()\n",
    "\n",
    "print(X_train.shape)\n",
    "print(X_val.shape)\n",
    "\n",
    "\n",
    "# define neural net\n",
    "model = NN()\n",
    "\n",
    "# add some layers\n",
    "model.add_layer(LinearLayerWithBackprop(4, 1))\n",
    "\n",
    "model = train(model, X_train, y_train, minibatch_size=4, epoch=10,\n",
    "           learning_rate=0.1, X_val=X_val, y_val=y_val, verbose=False)"
   ]
  },
  {
   "cell_type": "code",
   "execution_count": 331,
   "id": "443ea4f1",
   "metadata": {},
   "outputs": [
    {
     "data": {
      "text/plain": [
       "array([[12.89091345],\n",
       "       [25.7818269 ],\n",
       "       [12.144363  ],\n",
       "       [24.288726  ]])"
      ]
     },
     "execution_count": 331,
     "metadata": {},
     "output_type": "execute_result"
    }
   ],
   "source": [
    "model.predict(X_train)"
   ]
  },
  {
   "cell_type": "code",
   "execution_count": 332,
   "id": "4df550ee",
   "metadata": {},
   "outputs": [],
   "source": [
    "from sklearn.datasets import fetch_openml\n",
    "from sklearn.model_selection import train_test_split\n",
    "\n",
    "X, y = fetch_openml('mnist_784', version=1, return_X_y=True)"
   ]
  },
  {
   "cell_type": "code",
   "execution_count": 333,
   "id": "5ba6d662",
   "metadata": {},
   "outputs": [],
   "source": [
    "y = y.astype(np.int32)\n",
    "X = X[(y == 1) | (y == 0)]\n",
    "y = y[(y == 1) | (y == 0)]\n",
    "X_train, X_val, y_train, y_val = train_test_split(X, y, \n",
    "                                                  test_size=0.25,\n",
    "                                                  shuffle=True,\n",
    "                                                  random_state=0)\n",
    "X_train = X_train.to_numpy()\n",
    "X_val = X_val.to_numpy()\n",
    "y_train = y_train.to_numpy()\n",
    "y_val = y_val.to_numpy()"
   ]
  },
  {
   "cell_type": "code",
   "execution_count": 334,
   "id": "76400ea0",
   "metadata": {},
   "outputs": [],
   "source": [
    "import matplotlib.pyplot as plt"
   ]
  },
  {
   "cell_type": "code",
   "execution_count": 335,
   "id": "a360a5b2",
   "metadata": {},
   "outputs": [
    {
     "data": {
      "image/png": "[encoded data removed]",
      "text/plain": [
       "<Figure size 640x480 with 1 Axes>"
      ]
     },
     "metadata": {},
     "output_type": "display_data"
    }
   ],
   "source": [
    "# visualize data\n",
    "\n",
    "def vis(img, label):\n",
    "    plt.imshow(img, cmap='gray')\n",
    "    plt.title(label)\n",
    "    plt.axis('off')\n",
    "    plt.show()\n",
    "\n",
    "vis_idx = 3\n",
    "vis(X_val[vis_idx].reshape(-1, 28), y_val[vis_idx])"
   ]
  },
  {
   "cell_type": "code",
   "execution_count": 336,
   "id": "0acd1450",
   "metadata": {},
   "outputs": [],
   "source": [
    "import numpy as np \n",
    "import _pickle as cPickle\n",
    "import gzip\n",
    "import os\n",
    "from sklearn.utils import shuffle\n",
    "from tqdm import tqdm\n",
    "import matplotlib.pyplot as plt\n",
    "import time\n",
    "from IPython.display import clear_output"
   ]
  },
  {
   "cell_type": "code",
   "execution_count": 351,
   "id": "3b0a252e",
   "metadata": {},
   "outputs": [
    {
     "data": {
      "image/png": "[encoded data removed]",
      "text/plain": [
       "<Figure size 1500x500 with 2 Axes>"
      ]
     },
     "metadata": {},
     "output_type": "display_data"
    }
   ],
   "source": [
    "print(X_train.shape)\n",
    "print(X_val.shape)\n",
    "\n",
    "\n",
    "# define neural net\n",
    "model = NN()\n",
    "\n",
    "# add some layers\n",
    "model.add_layer(LinearLayerWithBackprop(X.shape[1], 100))\n",
    "model.add_layer(ReLULayerWithBackprop())\n",
    "model.add_layer(LinearLayerWithBackprop(100, 100))\n",
    "model.add_layer(ReLULayerWithBackprop())\n",
    "model.add_layer(LinearLayerWithBackprop(100, 1))\n",
    "\n",
    "model = train(model, X_train, y_train.reshape(-1, 1), minibatch_size=128, epoch=10,\n",
    "           learning_rate=0.001, X_val=X_val, y_val=y_val.reshape(-1, 1), draw_each_iters=1)"
   ]
  },
  {
   "cell_type": "code",
   "execution_count": 353,
   "id": "0e8d1560",
   "metadata": {},
   "outputs": [
    {
     "data": {
      "text/plain": [
       "0.8617474066313506"
      ]
     },
     "execution_count": 353,
     "metadata": {},
     "output_type": "execute_result"
    }
   ],
   "source": [
    "y_pred = model.predict(X_val)\n",
    "from sklearn.metrics import roc_auc_score\n",
    "1 - roc_auc_score(y_val, y_pred)"
   ]
  },
  {
   "cell_type": "code",
   "execution_count": 355,
   "id": "14d685af",
   "metadata": {},
   "outputs": [
    {
     "data": {
      "text/plain": [
       "0.8635234056443465"
      ]
     },
     "execution_count": 355,
     "metadata": {},
     "output_type": "execute_result"
    }
   ],
   "source": [
    "y_pred = model.predict(X_train)\n",
    "from sklearn.metrics import roc_auc_score\n",
    "1 - roc_auc_score(y_train, y_pred)"
   ]
  },
  {
   "cell_type": "code",
   "execution_count": null,
   "id": "b482b832",
   "metadata": {},
   "outputs": [],
   "source": []
  }
 ],
 "metadata": {
  "kernelspec": {
   "display_name": "Python 3 (ipykernel)",
   "language": "python",
   "name": "python3"
  },
  "language_info": {
   "codemirror_mode": {
    "name": "ipython",
    "version": 3
   },
   "file_extension": ".py",
   "mimetype": "text/x-python",
   "name": "python",
   "nbconvert_exporter": "python",
   "pygments_lexer": "ipython3",
   "version": "3.9.13"
  }
 },
 "nbformat": 4,
 "nbformat_minor": 5
}
