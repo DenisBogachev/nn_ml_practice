{
 "cells": [
  {
   "cell_type": "markdown",
   "id": "3efeee0f",
   "metadata": {},
   "source": [
    "Лаб. №2\n",
    "\n",
    "ФИО: Богачев Д. А.\n",
    "\n",
    "Группа: БИВТ-20-5"
   ]
  },
  {
   "cell_type": "code",
   "execution_count": 18,
   "id": "f24f3995",
   "metadata": {},
   "outputs": [],
   "source": [
    "import numpy as np"
   ]
  },
  {
   "cell_type": "markdown",
   "id": "26f0505a",
   "metadata": {},
   "source": [
    "Задача 1. Реализовать слой с функцией активации \"сигмоида\""
   ]
  },
  {
   "cell_type": "code",
   "execution_count": 19,
   "id": "df9512db",
   "metadata": {},
   "outputs": [],
   "source": [
    "class SigmoidLayer():\n",
    "    def __init__(self):\n",
    "        self.params = []\n",
    "        self.gradInput = None\n",
    "        self.X = None\n",
    "\n",
    "    def forward(self, X):\n",
    "        self.X = X.copy()\n",
    "        output = 1/(1+np.exp(-X))\n",
    "        return output"
   ]
  },
  {
   "cell_type": "code",
   "execution_count": 20,
   "id": "6b96de63",
   "metadata": {},
   "outputs": [],
   "source": [
    "np.random.seed(17)\n",
    "\n",
    "X = np.random.random(size=(100, 3))\n",
    "sigmoid = SigmoidLayer()\n",
    "output = sigmoid.forward(X)\n",
    "correct_answer = np.array([[0.57313782, 0.62961995, 0.54773438],\n",
    "                           [0.51696857, 0.68718368, 0.65843628],\n",
    "                           [0.65419284, 0.64005501, 0.50976449],\n",
    "                           [0.58851107, 0.7202462 , 0.51500666],\n",
    "                           [0.70350447, 0.70626044, 0.51279562]])\n",
    "assert np.isclose(output[:5], correct_answer).all()\n",
    "assert hasattr(sigmoid, \"params\"), \"Нет параметра params в реализованном классе\"\n",
    "assert hasattr(sigmoid, \"gradInput\"), \"Нет параметра gradInput в реализованном классе\"\n",
    "assert hasattr(sigmoid, \"X\"), \"Не сохранили X в реализованном классе\""
   ]
  },
  {
   "cell_type": "markdown",
   "id": "b9e2702d",
   "metadata": {},
   "source": [
    "Задача 2. Реализовать слой с активацией гиперболического тангенса"
   ]
  },
  {
   "cell_type": "code",
   "execution_count": 21,
   "id": "fb34e1f3",
   "metadata": {},
   "outputs": [],
   "source": [
    "class TanhLayer():\n",
    "    def __init__(self):\n",
    "        self.params = []\n",
    "        self.gradInput = None\n",
    "        self.X = None\n",
    "\n",
    "    def forward(self, X):\n",
    "        self.X = X.copy()\n",
    "        output = (np.exp(X)-np.exp(-X))/(np.exp(X)+np.exp(-X))\n",
    "        return output"
   ]
  },
  {
   "cell_type": "code",
   "execution_count": 22,
   "id": "97da086e",
   "metadata": {},
   "outputs": [],
   "source": [
    "np.random.seed(17)\n",
    "\n",
    "X = np.random.random(size=(100, 3))\n",
    "tanh = TanhLayer()\n",
    "output = tanh.forward(X)\n",
    "correct_answer = np.array([[0.28642281, 0.48582948, 0.18921297],\n",
    "                           [0.0677962 , 0.65669792, 0.57591821],\n",
    "                           [0.5632092 , 0.51946218, 0.03904306],\n",
    "                           [0.34328675, 0.73782249, 0.05997262],\n",
    "                           [0.69833441, 0.70505935, 0.05114899]])\n",
    "assert np.isclose(output[:5], correct_answer).all()\n",
    "assert hasattr(tanh, \"params\"), \"Нет параметра params в реализованном классе\"\n",
    "assert hasattr(tanh, \"gradInput\"), \"Нет параметра gradInput в реализованном классе\"\n",
    "assert hasattr(tanh, \"X\"), \"Не сохранили X в реализованном классе\""
   ]
  },
  {
   "cell_type": "markdown",
   "id": "b943f087",
   "metadata": {},
   "source": [
    "Задача 3. Реализовать функцию потерь MSE"
   ]
  },
  {
   "cell_type": "code",
   "execution_count": 23,
   "id": "74d935ad",
   "metadata": {},
   "outputs": [],
   "source": [
    "class MSELoss():\n",
    "    def forward(self, y_true, y_pred):\n",
    "        self.X = X.copy()\n",
    "        n = len(y_true)\n",
    "        output = np.sum((y_true - y_pred) ** 2) / n\n",
    "        return output"
   ]
  },
  {
   "cell_type": "code",
   "execution_count": 24,
   "id": "f8fbcc2d",
   "metadata": {},
   "outputs": [],
   "source": [
    "np.random.seed(17)\n",
    "\n",
    "y_true = np.random.randint(0, 1000, size=(100))\n",
    "y_pred = np.random.randint(0, 1000, size=(100))\n",
    "mse = MSELoss()\n",
    "output = mse.forward(y_true, y_pred)\n",
    "correct_answer = 157953.51\n",
    "assert round(output) == round(correct_answer)"
   ]
  },
  {
   "cell_type": "markdown",
   "id": "bdff8404",
   "metadata": {},
   "source": [
    "Задача 4. Реализовать каркас нейросети"
   ]
  },
  {
   "cell_type": "code",
   "execution_count": 8,
   "id": "c9124520",
   "metadata": {},
   "outputs": [],
   "source": [
    "class LinearLayer:\n",
    "    def __init__(self, in_size, out_size):\n",
    "        self.W = np.random.randn(in_size, out_size)\n",
    "        self.params = [self.W]\n",
    "        self.gradW = None\n",
    "        self.gradInput = None\n",
    "        \n",
    "    def forward(self, X):\n",
    "        self.X = X.copy()\n",
    "        output = X.dot(self.W)\n",
    "        return output"
   ]
  },
  {
   "cell_type": "code",
   "execution_count": 14,
   "id": "ded9ed9a",
   "metadata": {},
   "outputs": [],
   "source": [
    "class NN:\n",
    "    def __init__(self, loss_func):\n",
    "        self.params = []\n",
    "        self.layers = []\n",
    "        self.grads = []\n",
    "        self.loss_func = loss_func\n",
    "\n",
    "    def add_layer(self, layer):\n",
    "        self.params.append(layer.params)\n",
    "        self.layers.append(layer)\n",
    "        self.grads.append(self.grads * len(layer.params))\n",
    "\n",
    "    def forward(self, X):\n",
    "        output = X.copy()\n",
    "        for layer in self.layers:\n",
    "            output = layer.forward(output)\n",
    "        return output"
   ]
  },
  {
   "cell_type": "code",
   "execution_count": 15,
   "id": "855756ca",
   "metadata": {},
   "outputs": [],
   "source": [
    "nn = NN(MSELoss())\n",
    "\n",
    "assert hasattr(nn, \"layers\")\n",
    "assert hasattr(nn, \"params\")\n",
    "assert hasattr(nn, \"grads\")\n",
    "assert hasattr(nn, \"loss_func\")\n",
    "assert isinstance(nn.loss_func, MSELoss)"
   ]
  },
  {
   "cell_type": "code",
   "execution_count": 11,
   "id": "0bac66e1",
   "metadata": {},
   "outputs": [],
   "source": [
    "np.random.seed(17)\n",
    "\n",
    "X = np.random.random(size=(100, 3))\n",
    "nn = NN(MSELoss())\n",
    "\n",
    "linear1 = LinearLayer(3, 5)\n",
    "nn.add_layer(linear1)\n",
    "\n",
    "sigmoid1 = SigmoidLayer()\n",
    "nn.add_layer(sigmoid1)\n",
    "\n",
    "linear2 = LinearLayer(5, 1)\n",
    "nn.add_layer(linear2)\n",
    "\n",
    "sigmoid2 = SigmoidLayer()\n",
    "nn.add_layer(sigmoid2)\n",
    "\n",
    "output_nn = nn.forward(X)\n",
    "\n",
    "assert round(output_nn.sum()) == 65"
   ]
  },
  {
   "cell_type": "markdown",
   "id": "667d4a1c",
   "metadata": {},
   "source": [
    "Задача 5. Соберите свою собственную нейросеть"
   ]
  },
  {
   "cell_type": "code",
   "execution_count": 27,
   "id": "81722b08",
   "metadata": {},
   "outputs": [],
   "source": [
    "np.random.seed(17)\n",
    "\n",
    "nn = NN(MSELoss())\n",
    "X = np.random.random(size=(100, 4))\n",
    "nn.add_layer(LinearLayer(4, 4))\n",
    "nn.add_layer(LinearLayer(4, 5))\n",
    "nn.add_layer(LinearLayer(5, 6))\n",
    "nn.add_layer(LinearLayer(6, 4))\n",
    "nn.add_layer(LinearLayer(4, 3))\n",
    "nn.add_layer(LinearLayer(3, 3))\n",
    "output_nn = nn.forward(X)"
   ]
  },
  {
   "cell_type": "code",
   "execution_count": 28,
   "id": "f44756f5",
   "metadata": {},
   "outputs": [],
   "source": [
    "np.random.seed(17)\n",
    "X = np.random.randn(100, 4)\n",
    "output = nn.forward(X)\n",
    "\n",
    "assert output.shape == (100, 3)\n",
    "\n",
    "layer_weights = []\n",
    "for layer in nn.layers:\n",
    "    if isinstance(layer, LinearLayer):\n",
    "        layer_weights.append(layer.W.shape)\n",
    "right_weights = [(4, 4), (4, 5), (5, 6), (6, 4), (4, 3), (3, 3)]\n",
    "assert layer_weights == right_weights\n"
   ]
  },
  {
   "cell_type": "code",
   "execution_count": null,
   "id": "371d3902",
   "metadata": {},
   "outputs": [],
   "source": []
  }
 ],
 "metadata": {
  "kernelspec": {
   "display_name": "Python 3 (ipykernel)",
   "language": "python",
   "name": "python3"
  },
  "language_info": {
   "codemirror_mode": {
    "name": "ipython",
    "version": 3
   },
   "file_extension": ".py",
   "mimetype": "text/x-python",
   "name": "python",
   "nbconvert_exporter": "python",
   "pygments_lexer": "ipython3",
   "version": "3.9.12"
  }
 },
 "nbformat": 4,
 "nbformat_minor": 5
}
